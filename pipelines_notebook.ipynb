{
 "cells": [
  {
   "cell_type": "code",
   "execution_count": 1,
   "metadata": {},
   "outputs": [],
   "source": [
    "from sklearn.pipeline import Pipeline\n",
    "from sklearn.preprocessing import StandardScaler\n",
    "import pandas as pd\n",
    "import numpy as np"
   ]
  },
  {
   "cell_type": "code",
   "execution_count": 2,
   "metadata": {},
   "outputs": [
    {
     "name": "stderr",
     "output_type": "stream",
     "text": [
      "C:\\Users\\guill\\Anaconda3\\lib\\site-packages\\IPython\\core\\interactiveshell.py:3063: DtypeWarning: Columns (61,62,94) have mixed types.Specify dtype option on import or set low_memory=False.\n",
      "  interactivity=interactivity, compiler=compiler, result=result)\n"
     ]
    }
   ],
   "source": [
    "raw_data = pd.read_csv('http://data.insideairbnb.com/united-states/ny/new-york-city/2020-07-07/data/listings.csv.gz',\n",
    "                        compression='gzip')\n"
   ]
  },
  {
   "cell_type": "code",
   "execution_count": 45,
   "metadata": {
    "scrolled": true
   },
   "outputs": [
    {
     "data": {
      "text/html": [
       "<div>\n",
       "<style scoped>\n",
       "    .dataframe tbody tr th:only-of-type {\n",
       "        vertical-align: middle;\n",
       "    }\n",
       "\n",
       "    .dataframe tbody tr th {\n",
       "        vertical-align: top;\n",
       "    }\n",
       "\n",
       "    .dataframe thead th {\n",
       "        text-align: right;\n",
       "    }\n",
       "</style>\n",
       "<table border=\"1\" class=\"dataframe\">\n",
       "  <thead>\n",
       "    <tr style=\"text-align: right;\">\n",
       "      <th></th>\n",
       "      <th>host_picture_url</th>\n",
       "      <th>host_neighbourhood</th>\n",
       "      <th>host_listings_count</th>\n",
       "      <th>host_total_listings_count</th>\n",
       "      <th>host_verifications</th>\n",
       "      <th>host_has_profile_pic</th>\n",
       "      <th>host_identity_verified</th>\n",
       "      <th>street</th>\n",
       "      <th>neighbourhood</th>\n",
       "      <th>neighbourhood_cleansed</th>\n",
       "      <th>neighbourhood_group_cleansed</th>\n",
       "      <th>city</th>\n",
       "      <th>state</th>\n",
       "      <th>zipcode</th>\n",
       "      <th>market</th>\n",
       "      <th>smart_location</th>\n",
       "      <th>country_code</th>\n",
       "      <th>country</th>\n",
       "      <th>latitude</th>\n",
       "      <th>longitude</th>\n",
       "    </tr>\n",
       "  </thead>\n",
       "  <tbody>\n",
       "    <tr>\n",
       "      <th>0</th>\n",
       "      <td>https://a0.muscache.com/im/users/2259/profile_...</td>\n",
       "      <td>Washington Heights</td>\n",
       "      <td>0.0</td>\n",
       "      <td>0.0</td>\n",
       "      <td>['reviews']</td>\n",
       "      <td>t</td>\n",
       "      <td>f</td>\n",
       "      <td>New York, NY, United States</td>\n",
       "      <td>Washington Heights</td>\n",
       "      <td>Washington Heights</td>\n",
       "      <td>Manhattan</td>\n",
       "      <td>New York</td>\n",
       "      <td>NY</td>\n",
       "      <td>10040</td>\n",
       "      <td>New York</td>\n",
       "      <td>New York, NY</td>\n",
       "      <td>US</td>\n",
       "      <td>United States</td>\n",
       "      <td>40.85722</td>\n",
       "      <td>-73.93790</td>\n",
       "    </tr>\n",
       "    <tr>\n",
       "      <th>1</th>\n",
       "      <td>https://a0.muscache.com/im/pictures/user/50fc5...</td>\n",
       "      <td>Midtown</td>\n",
       "      <td>6.0</td>\n",
       "      <td>6.0</td>\n",
       "      <td>['email', 'phone', 'reviews', 'offline_governm...</td>\n",
       "      <td>t</td>\n",
       "      <td>t</td>\n",
       "      <td>New York, NY, United States</td>\n",
       "      <td>Manhattan</td>\n",
       "      <td>Midtown</td>\n",
       "      <td>Manhattan</td>\n",
       "      <td>New York</td>\n",
       "      <td>NY</td>\n",
       "      <td>10018</td>\n",
       "      <td>New York</td>\n",
       "      <td>New York, NY</td>\n",
       "      <td>US</td>\n",
       "      <td>United States</td>\n",
       "      <td>40.75362</td>\n",
       "      <td>-73.98377</td>\n",
       "    </tr>\n",
       "    <tr>\n",
       "      <th>2</th>\n",
       "      <td>https://a0.muscache.com/im/users/4869/profile_...</td>\n",
       "      <td>Clinton Hill</td>\n",
       "      <td>1.0</td>\n",
       "      <td>1.0</td>\n",
       "      <td>['email', 'phone', 'reviews', 'offline_governm...</td>\n",
       "      <td>t</td>\n",
       "      <td>t</td>\n",
       "      <td>Brooklyn, NY, United States</td>\n",
       "      <td>Brooklyn</td>\n",
       "      <td>Clinton Hill</td>\n",
       "      <td>Brooklyn</td>\n",
       "      <td>Brooklyn</td>\n",
       "      <td>NY</td>\n",
       "      <td>11238</td>\n",
       "      <td>New York</td>\n",
       "      <td>Brooklyn, NY</td>\n",
       "      <td>US</td>\n",
       "      <td>United States</td>\n",
       "      <td>40.68514</td>\n",
       "      <td>-73.95976</td>\n",
       "    </tr>\n",
       "    <tr>\n",
       "      <th>3</th>\n",
       "      <td>https://a0.muscache.com/im/users/7231/profile_...</td>\n",
       "      <td>Times Square</td>\n",
       "      <td>1.0</td>\n",
       "      <td>1.0</td>\n",
       "      <td>['email', 'phone', 'reviews']</td>\n",
       "      <td>t</td>\n",
       "      <td>f</td>\n",
       "      <td>New York, NY, United States</td>\n",
       "      <td>Manhattan</td>\n",
       "      <td>Hell's Kitchen</td>\n",
       "      <td>Manhattan</td>\n",
       "      <td>New York</td>\n",
       "      <td>NY</td>\n",
       "      <td>10019</td>\n",
       "      <td>New York</td>\n",
       "      <td>New York, NY</td>\n",
       "      <td>US</td>\n",
       "      <td>United States</td>\n",
       "      <td>40.76551</td>\n",
       "      <td>-73.98631</td>\n",
       "    </tr>\n",
       "    <tr>\n",
       "      <th>4</th>\n",
       "      <td>https://a0.muscache.com/im/pictures/user/26745...</td>\n",
       "      <td>Flatiron District</td>\n",
       "      <td>1.0</td>\n",
       "      <td>1.0</td>\n",
       "      <td>['email', 'phone', 'reviews', 'jumio', 'govern...</td>\n",
       "      <td>t</td>\n",
       "      <td>f</td>\n",
       "      <td>New York, NY, United States</td>\n",
       "      <td>Midtown East</td>\n",
       "      <td>Murray Hill</td>\n",
       "      <td>Manhattan</td>\n",
       "      <td>New York</td>\n",
       "      <td>NY</td>\n",
       "      <td>10016</td>\n",
       "      <td>New York</td>\n",
       "      <td>New York, NY</td>\n",
       "      <td>US</td>\n",
       "      <td>United States</td>\n",
       "      <td>40.74767</td>\n",
       "      <td>-73.97500</td>\n",
       "    </tr>\n",
       "    <tr>\n",
       "      <th>...</th>\n",
       "      <td>...</td>\n",
       "      <td>...</td>\n",
       "      <td>...</td>\n",
       "      <td>...</td>\n",
       "      <td>...</td>\n",
       "      <td>...</td>\n",
       "      <td>...</td>\n",
       "      <td>...</td>\n",
       "      <td>...</td>\n",
       "      <td>...</td>\n",
       "      <td>...</td>\n",
       "      <td>...</td>\n",
       "      <td>...</td>\n",
       "      <td>...</td>\n",
       "      <td>...</td>\n",
       "      <td>...</td>\n",
       "      <td>...</td>\n",
       "      <td>...</td>\n",
       "      <td>...</td>\n",
       "      <td>...</td>\n",
       "    </tr>\n",
       "    <tr>\n",
       "      <th>48583</th>\n",
       "      <td>https://a0.muscache.com/im/pictures/user/40d48...</td>\n",
       "      <td>Williamsburg</td>\n",
       "      <td>0.0</td>\n",
       "      <td>0.0</td>\n",
       "      <td>['email', 'phone', 'offline_government_id', 's...</td>\n",
       "      <td>t</td>\n",
       "      <td>f</td>\n",
       "      <td>New York, NY, United States</td>\n",
       "      <td>Manhattan</td>\n",
       "      <td>East Harlem</td>\n",
       "      <td>Manhattan</td>\n",
       "      <td>New York</td>\n",
       "      <td>NY</td>\n",
       "      <td>10029</td>\n",
       "      <td>New York</td>\n",
       "      <td>New York, NY</td>\n",
       "      <td>US</td>\n",
       "      <td>United States</td>\n",
       "      <td>40.79319</td>\n",
       "      <td>-73.94360</td>\n",
       "    </tr>\n",
       "    <tr>\n",
       "      <th>48584</th>\n",
       "      <td>https://a0.muscache.com/im/users/2420592/profi...</td>\n",
       "      <td>DUMBO</td>\n",
       "      <td>1.0</td>\n",
       "      <td>1.0</td>\n",
       "      <td>['email', 'phone', 'facebook', 'reviews', 'jum...</td>\n",
       "      <td>t</td>\n",
       "      <td>t</td>\n",
       "      <td>Brooklyn, NY, United States</td>\n",
       "      <td>Brooklyn Navy Yard</td>\n",
       "      <td>Navy Yard</td>\n",
       "      <td>Brooklyn</td>\n",
       "      <td>Brooklyn</td>\n",
       "      <td>NY</td>\n",
       "      <td>11201</td>\n",
       "      <td>New York</td>\n",
       "      <td>Brooklyn, NY</td>\n",
       "      <td>US</td>\n",
       "      <td>United States</td>\n",
       "      <td>40.70231</td>\n",
       "      <td>-73.98032</td>\n",
       "    </tr>\n",
       "    <tr>\n",
       "      <th>48585</th>\n",
       "      <td>https://a0.muscache.com/im/pictures/user/40d48...</td>\n",
       "      <td>Williamsburg</td>\n",
       "      <td>0.0</td>\n",
       "      <td>0.0</td>\n",
       "      <td>['email', 'phone', 'offline_government_id', 's...</td>\n",
       "      <td>t</td>\n",
       "      <td>f</td>\n",
       "      <td>Brooklyn, NY, United States</td>\n",
       "      <td>Brooklyn</td>\n",
       "      <td>Williamsburg</td>\n",
       "      <td>Brooklyn</td>\n",
       "      <td>Brooklyn</td>\n",
       "      <td>NY</td>\n",
       "      <td>11249</td>\n",
       "      <td>New York</td>\n",
       "      <td>Brooklyn, NY</td>\n",
       "      <td>US</td>\n",
       "      <td>United States</td>\n",
       "      <td>40.71414</td>\n",
       "      <td>-73.96376</td>\n",
       "    </tr>\n",
       "    <tr>\n",
       "      <th>48586</th>\n",
       "      <td>https://a0.muscache.com/im/pictures/user/40d48...</td>\n",
       "      <td>Williamsburg</td>\n",
       "      <td>0.0</td>\n",
       "      <td>0.0</td>\n",
       "      <td>['email', 'phone', 'offline_government_id', 's...</td>\n",
       "      <td>t</td>\n",
       "      <td>f</td>\n",
       "      <td>Brooklyn, NY, United States</td>\n",
       "      <td>Brooklyn</td>\n",
       "      <td>Bushwick</td>\n",
       "      <td>Brooklyn</td>\n",
       "      <td>Brooklyn</td>\n",
       "      <td>NY</td>\n",
       "      <td>11206</td>\n",
       "      <td>New York</td>\n",
       "      <td>Brooklyn, NY</td>\n",
       "      <td>US</td>\n",
       "      <td>United States</td>\n",
       "      <td>40.69850</td>\n",
       "      <td>-73.93186</td>\n",
       "    </tr>\n",
       "    <tr>\n",
       "      <th>48587</th>\n",
       "      <td>https://a0.muscache.com/im/pictures/user/0aecc...</td>\n",
       "      <td>NaN</td>\n",
       "      <td>2.0</td>\n",
       "      <td>2.0</td>\n",
       "      <td>['phone', 'facebook', 'reviews', 'offline_gove...</td>\n",
       "      <td>t</td>\n",
       "      <td>f</td>\n",
       "      <td>New York, NY, United States</td>\n",
       "      <td>Manhattan</td>\n",
       "      <td>Upper West Side</td>\n",
       "      <td>Manhattan</td>\n",
       "      <td>New York</td>\n",
       "      <td>NY</td>\n",
       "      <td>10025</td>\n",
       "      <td>New York</td>\n",
       "      <td>New York, NY</td>\n",
       "      <td>US</td>\n",
       "      <td>United States</td>\n",
       "      <td>40.79075</td>\n",
       "      <td>-73.97373</td>\n",
       "    </tr>\n",
       "  </tbody>\n",
       "</table>\n",
       "<p>48588 rows × 20 columns</p>\n",
       "</div>"
      ],
      "text/plain": [
       "                                        host_picture_url  host_neighbourhood  \\\n",
       "0      https://a0.muscache.com/im/users/2259/profile_...  Washington Heights   \n",
       "1      https://a0.muscache.com/im/pictures/user/50fc5...             Midtown   \n",
       "2      https://a0.muscache.com/im/users/4869/profile_...        Clinton Hill   \n",
       "3      https://a0.muscache.com/im/users/7231/profile_...        Times Square   \n",
       "4      https://a0.muscache.com/im/pictures/user/26745...   Flatiron District   \n",
       "...                                                  ...                 ...   \n",
       "48583  https://a0.muscache.com/im/pictures/user/40d48...        Williamsburg   \n",
       "48584  https://a0.muscache.com/im/users/2420592/profi...               DUMBO   \n",
       "48585  https://a0.muscache.com/im/pictures/user/40d48...        Williamsburg   \n",
       "48586  https://a0.muscache.com/im/pictures/user/40d48...        Williamsburg   \n",
       "48587  https://a0.muscache.com/im/pictures/user/0aecc...                 NaN   \n",
       "\n",
       "       host_listings_count  host_total_listings_count  \\\n",
       "0                      0.0                        0.0   \n",
       "1                      6.0                        6.0   \n",
       "2                      1.0                        1.0   \n",
       "3                      1.0                        1.0   \n",
       "4                      1.0                        1.0   \n",
       "...                    ...                        ...   \n",
       "48583                  0.0                        0.0   \n",
       "48584                  1.0                        1.0   \n",
       "48585                  0.0                        0.0   \n",
       "48586                  0.0                        0.0   \n",
       "48587                  2.0                        2.0   \n",
       "\n",
       "                                      host_verifications host_has_profile_pic  \\\n",
       "0                                            ['reviews']                    t   \n",
       "1      ['email', 'phone', 'reviews', 'offline_governm...                    t   \n",
       "2      ['email', 'phone', 'reviews', 'offline_governm...                    t   \n",
       "3                          ['email', 'phone', 'reviews']                    t   \n",
       "4      ['email', 'phone', 'reviews', 'jumio', 'govern...                    t   \n",
       "...                                                  ...                  ...   \n",
       "48583  ['email', 'phone', 'offline_government_id', 's...                    t   \n",
       "48584  ['email', 'phone', 'facebook', 'reviews', 'jum...                    t   \n",
       "48585  ['email', 'phone', 'offline_government_id', 's...                    t   \n",
       "48586  ['email', 'phone', 'offline_government_id', 's...                    t   \n",
       "48587  ['phone', 'facebook', 'reviews', 'offline_gove...                    t   \n",
       "\n",
       "      host_identity_verified                       street       neighbourhood  \\\n",
       "0                          f  New York, NY, United States  Washington Heights   \n",
       "1                          t  New York, NY, United States           Manhattan   \n",
       "2                          t  Brooklyn, NY, United States            Brooklyn   \n",
       "3                          f  New York, NY, United States           Manhattan   \n",
       "4                          f  New York, NY, United States        Midtown East   \n",
       "...                      ...                          ...                 ...   \n",
       "48583                      f  New York, NY, United States           Manhattan   \n",
       "48584                      t  Brooklyn, NY, United States  Brooklyn Navy Yard   \n",
       "48585                      f  Brooklyn, NY, United States            Brooklyn   \n",
       "48586                      f  Brooklyn, NY, United States            Brooklyn   \n",
       "48587                      f  New York, NY, United States           Manhattan   \n",
       "\n",
       "      neighbourhood_cleansed neighbourhood_group_cleansed      city state  \\\n",
       "0         Washington Heights                    Manhattan  New York    NY   \n",
       "1                    Midtown                    Manhattan  New York    NY   \n",
       "2               Clinton Hill                     Brooklyn  Brooklyn    NY   \n",
       "3             Hell's Kitchen                    Manhattan  New York    NY   \n",
       "4                Murray Hill                    Manhattan  New York    NY   \n",
       "...                      ...                          ...       ...   ...   \n",
       "48583            East Harlem                    Manhattan  New York    NY   \n",
       "48584              Navy Yard                     Brooklyn  Brooklyn    NY   \n",
       "48585           Williamsburg                     Brooklyn  Brooklyn    NY   \n",
       "48586               Bushwick                     Brooklyn  Brooklyn    NY   \n",
       "48587        Upper West Side                    Manhattan  New York    NY   \n",
       "\n",
       "      zipcode    market smart_location country_code        country  latitude  \\\n",
       "0       10040  New York   New York, NY           US  United States  40.85722   \n",
       "1       10018  New York   New York, NY           US  United States  40.75362   \n",
       "2       11238  New York   Brooklyn, NY           US  United States  40.68514   \n",
       "3       10019  New York   New York, NY           US  United States  40.76551   \n",
       "4       10016  New York   New York, NY           US  United States  40.74767   \n",
       "...       ...       ...            ...          ...            ...       ...   \n",
       "48583   10029  New York   New York, NY           US  United States  40.79319   \n",
       "48584   11201  New York   Brooklyn, NY           US  United States  40.70231   \n",
       "48585   11249  New York   Brooklyn, NY           US  United States  40.71414   \n",
       "48586   11206  New York   Brooklyn, NY           US  United States  40.69850   \n",
       "48587   10025  New York   New York, NY           US  United States  40.79075   \n",
       "\n",
       "       longitude  \n",
       "0      -73.93790  \n",
       "1      -73.98377  \n",
       "2      -73.95976  \n",
       "3      -73.98631  \n",
       "4      -73.97500  \n",
       "...          ...  \n",
       "48583  -73.94360  \n",
       "48584  -73.98032  \n",
       "48585  -73.96376  \n",
       "48586  -73.93186  \n",
       "48587  -73.97373  \n",
       "\n",
       "[48588 rows x 20 columns]"
      ]
     },
     "execution_count": 45,
     "metadata": {},
     "output_type": "execute_result"
    }
   ],
   "source": [
    "airbnb_data = raw_data\n",
    "\n",
    "\n",
    "airbnb_data.iloc[:,30:50]"
   ]
  },
  {
   "cell_type": "markdown",
   "metadata": {},
   "source": [
    "We can separate our variables between categorical and numerical to apply different transformations to each type."
   ]
  },
  {
   "cell_type": "code",
   "execution_count": 57,
   "metadata": {},
   "outputs": [],
   "source": [
    "#Categorical variables to use\n",
    "cat_vars = [\"instant_bookable\", \"is_business_travel_ready\", \"cancellation_policy\",\"host_is_superhost\", \"neighbourhood_cleansed\",\"property_type\",\"room_type\", \"bed_type\"]\n",
    "# Numerical Variables to use\n",
    "num_vars = ['price', 'square_feet','minimum_nights','weekly_price', 'monthly_price', 'security_deposit','bathrooms', 'bedrooms', 'beds', \"guests_included\",\n",
    "       'cleaning_fee', \"reviews_per_month\",\"host_listings_count\",\n",
    "           \"calculated_host_listings_count_shared_rooms\", \"host_response_rate\", \"host_acceptance_rate\",\n",
    "           \"review_scores_cleanliness\",\"review_scores_value\",\"review_scores_rating\", \"number_of_reviews\"]"
   ]
  },
  {
   "cell_type": "code",
   "execution_count": 67,
   "metadata": {},
   "outputs": [
    {
     "name": "stdout",
     "output_type": "stream",
     "text": [
      "Percent missing categorical data removed: 23.39%\n"
     ]
    }
   ],
   "source": [
    "airbnb_data = raw_data\n",
    "\n",
    "# Drop observation if categorical data is missing\n",
    "before = airbnb_data.shape[0]\n",
    "airbnb_data = airbnb_data.dropna(subset=cat_vars + [\"number_of_reviews\"])\n",
    "airbnb_data = airbnb_data[airbnb_data['number_of_reviews']>0]\n",
    "after = airbnb_data.shape[0]\n",
    "\n",
    "\n",
    "airbnb_data = airbnb_data[cat_vars + num_vars]\n",
    "print(\"Percent missing categorical data removed: {:.2%}\".format((before-after)/before))"
   ]
  },
  {
   "cell_type": "code",
   "execution_count": 38,
   "metadata": {},
   "outputs": [
    {
     "data": {
      "text/plain": [
       "Index(['id', 'listing_url', 'scrape_id', 'last_scraped', 'name', 'summary',\n",
       "       'space', 'description', 'experiences_offered', 'neighborhood_overview',\n",
       "       ...\n",
       "       'instant_bookable', 'is_business_travel_ready', 'cancellation_policy',\n",
       "       'require_guest_profile_picture', 'require_guest_phone_verification',\n",
       "       'calculated_host_listings_count',\n",
       "       'calculated_host_listings_count_entire_homes',\n",
       "       'calculated_host_listings_count_private_rooms',\n",
       "       'calculated_host_listings_count_shared_rooms', 'reviews_per_month'],\n",
       "      dtype='object', length=106)"
      ]
     },
     "execution_count": 38,
     "metadata": {},
     "output_type": "execute_result"
    }
   ],
   "source": [
    "airbnb_data.columns"
   ]
  },
  {
   "cell_type": "code",
   "execution_count": 69,
   "metadata": {},
   "outputs": [],
   "source": [
    "# Quick function to process currency and % numbers from strings to numerical floats\n",
    "def clean_numerics(x):\n",
    "    \"\"\" If the value is a string, then remove currency symbol and delimiters\n",
    "    otherwise, the value is numeric and can be converted\n",
    "    \"\"\"\n",
    "    if (x is np.nan) or (x=='NaN') or (x is None):\n",
    "         x = np.nan\n",
    "\n",
    "    elif isinstance(x, str):\n",
    "        if '%' in x:\n",
    "            clean_val = x.replace('%','')\n",
    "            return (float(clean_val)/100)\n",
    "        else:\n",
    "            clean_val = x.replace('$', '').replace(',', '')\n",
    "            return(  float(clean_val))\n",
    "    return(x)\n",
    "\n",
    "\n",
    "airbnb_data.loc[:,num_vars] = airbnb_data[num_vars].applymap(clean_numerics)\n",
    "\n"
   ]
  },
  {
   "cell_type": "markdown",
   "metadata": {},
   "source": [
    "## Imputing\n",
    "\n",
    "Missing values are always an issue when working with real data. We must handle them. We could drop all rows with missing values but then we wouldn't have much data left. We can impute the data, sklearn provides a simple imputer that can 'fill' in the missing values with different or even custom metrics. Here is an example of replacing the missing values with the median of the series."
   ]
  },
  {
   "cell_type": "code",
   "execution_count": 70,
   "metadata": {},
   "outputs": [],
   "source": [
    "from sklearn.impute import SimpleImputer\n",
    "\n",
    "imputer = SimpleImputer(strategy=\"median\")\n",
    "\n",
    "# Num_vars is the list of\n",
    "airbnb_num = airbnb_data[num_vars]\n",
    "\n",
    "airbnb_num = imputer.fit_transform(airbnb_num)"
   ]
  },
  {
   "cell_type": "code",
   "execution_count": 65,
   "metadata": {},
   "outputs": [],
   "source": [
    "from sklearn.base import BaseEstimator, TransformerMixin\n",
    "\n",
    "class NewVariablesAdder(BaseEstimator, TransformerMixin):\n",
    "    \n",
    "    def __init__(self):\n",
    "        pass\n",
    "    \n",
    "    \n",
    "    def fit(self, X, y=None):\n",
    "        return self\n",
    "    \n",
    "    def transform(self, X):\n",
    "        \"review_scores_rating\", \"review_scores_cleanliness\",\"review_scores_value\", \"number_of_reviews\"\n",
    "        ratings_over_reviews = X[:,-2]/X[:,-1]\n",
    "        \n",
    "        return np.c_[X, ratings_over_reviews]"
   ]
  },
  {
   "cell_type": "markdown",
   "metadata": {},
   "source": [
    "## Encoding\n",
    "\n",
    "Machine Learning algorithms don't work well with strings  or categorical data. We have to translate the categories to a numerical value. Let's convert different categories to numbers. We can use encoders to automate this task"
   ]
  },
  {
   "cell_type": "code",
   "execution_count": 24,
   "metadata": {},
   "outputs": [],
   "source": [
    "airbnb_cat= airbnb_data[cat_vars]"
   ]
  },
  {
   "cell_type": "code",
   "execution_count": 25,
   "metadata": {},
   "outputs": [
    {
     "data": {
      "text/plain": [
       "array([[ 0.,  0.,  0., ..., 29.,  2.,  4.],\n",
       "       [ 0.,  3.,  0., ...,  1.,  0.,  4.],\n",
       "       [ 0.,  0.,  0., ..., 19.,  0.,  4.],\n",
       "       ...,\n",
       "       [ 0.,  0.,  0., ...,  1.,  2.,  4.],\n",
       "       [ 0.,  0.,  0., ..., 23.,  0.,  4.],\n",
       "       [ 0.,  3.,  0., ...,  1.,  2.,  4.]])"
      ]
     },
     "execution_count": 25,
     "metadata": {},
     "output_type": "execute_result"
    }
   ],
   "source": [
    "from  sklearn.preprocessing import OrdinalEncoder\n",
    "ordinal_encoder = OrdinalEncoder()\n",
    "\n",
    "airbnb_cat_encoded = ordinal_encoder.fit_transform(airbnb_cat)\n",
    "airbnb_cat_encoded[:,1:10]\n"
   ]
  },
  {
   "cell_type": "markdown",
   "metadata": {},
   "source": [
    "This looks great but we are not done yet. Machine learning algorithms can assume that two nearby values are more similar e.g 1 &2 vs 1&9 . This works when there is an order but is this a good idea with variables such as 'bed_type' , 'property_type' or 'room_type' ? \n",
    "\n",
    "We can transform our data to have a singular attribute per category. For Example, we create an attribute equal to 1 when the 'property_type' is 'House' and 0 otherwise. Repeat the same for all other categories.\n",
    "\n",
    "This process is called one-hot encoding. If you come from a stats or econometrics background these are called dummy variables/attributes\n",
    "\n",
    "Luckly for us, there is an encoder that performs this task efficiently."
   ]
  },
  {
   "cell_type": "code",
   "execution_count": 26,
   "metadata": {},
   "outputs": [
    {
     "data": {
      "text/plain": [
       "<48563x281 sparse matrix of type '<class 'numpy.float64'>'\n",
       "\twith 388504 stored elements in Compressed Sparse Row format>"
      ]
     },
     "execution_count": 26,
     "metadata": {},
     "output_type": "execute_result"
    }
   ],
   "source": [
    "from sklearn.preprocessing import OneHotEncoder\n",
    "\n",
    "cat_encoder = OneHotEncoder()\n",
    "\n",
    "airbnb_cat_hot_encoded = cat_encoder.fit_transform(airbnb_cat)\n",
    "airbnb_cat_hot_encoded"
   ]
  },
  {
   "cell_type": "markdown",
   "metadata": {},
   "source": [
    "A wild sparse matrix appears!  Instead of a NumPy array the encoder returns a sparse matrix which is very convenient when we have several categorical attributes with hundreds of categories.\n",
    "\n",
    "The matrix is full of 0 except for a single 1 per row. This would use a lot of memory to store but the spare matrix is smart and stors only the location of the nonzero elements."
   ]
  },
  {
   "cell_type": "markdown",
   "metadata": {},
   "source": [
    "# Feature Scaling\n",
    "\n",
    "It is very important to scale our data when using machine learning algorithims. There are exceptions, but when the variables are in different scales we need to scale them to have the same scale.\n",
    "\n",
    "A couple of ways to do it:\n",
    "\n",
    "min-max scaling: substract the min value and divide by the range (max-min). Values will range from 0 to 1. The MinMaxScaler does this. \n",
    "\n",
    "standardization: substract mean and divide by standard deviation. You end up with 0 mean and unit variance. Values are not bounded in this case. Standardization is less affected by outliers. We can use StandardScaler."
   ]
  },
  {
   "cell_type": "code",
   "execution_count": 27,
   "metadata": {},
   "outputs": [
    {
     "data": {
      "text/plain": [
       "array([[-0.14444458, -0.32826784, -0.07876442, ..., -0.11234708,\n",
       "        -5.3530349 , -2.26102896],\n",
       "       [ 0.13086405, -0.23906445,  4.63762052, ..., -0.11234708,\n",
       "        -0.9502283 , -2.30436661],\n",
       "       [-0.16867174, -0.32826784, -0.53401394, ..., -0.11234708,\n",
       "         0.17869647,  0.4692433 ],\n",
       "       ...,\n",
       "       [-0.26558038,  0.96518127, -0.07876442, ..., -0.11234708,\n",
       "        -1.96626059,  0.64259392],\n",
       "       [-0.08938285,  0.96518127, -0.07876442, ..., -0.11234708,\n",
       "        -1.96626059,  0.64259392],\n",
       "       [-0.1928989 , -0.23906445, -0.07876442, ..., -0.11234708,\n",
       "        -1.11956702, -1.39427586]])"
      ]
     },
     "execution_count": 27,
     "metadata": {},
     "output_type": "execute_result"
    }
   ],
   "source": [
    "from sklearn.preprocessing import StandardScaler\n",
    "\n",
    "StandardScaler().fit_transform(airbnb_num)"
   ]
  },
  {
   "cell_type": "code",
   "execution_count": 51,
   "metadata": {},
   "outputs": [
    {
     "data": {
      "text/plain": [
       "array([[2060, 'https://www.airbnb.com/rooms/2060', 20200707031313, ...,\n",
       "        0, 0.01, 80.0],\n",
       "       [2595, 'https://www.airbnb.com/rooms/2595', 20200707031313, ...,\n",
       "        0, 0.37, 1.9583333333333333],\n",
       "       [3831, 'https://www.airbnb.com/rooms/3831', 20200707031313, ...,\n",
       "        0, 4.65, 0.27217125382262997],\n",
       "       ...,\n",
       "       [44103612, 'https://www.airbnb.com/rooms/44103612',\n",
       "        20200707031313, ..., 0, nan, nan],\n",
       "       [44103854, 'https://www.airbnb.com/rooms/44103854',\n",
       "        20200707031313, ..., 0, nan, nan],\n",
       "       [44104534, 'https://www.airbnb.com/rooms/44104534',\n",
       "        20200707031313, ..., 0, nan, nan]], dtype=object)"
      ]
     },
     "execution_count": 51,
     "metadata": {},
     "output_type": "execute_result"
    }
   ],
   "source": [
    "test = NewVariablesAdder()\n",
    "test.transform(airbnb_data)"
   ]
  },
  {
   "cell_type": "markdown",
   "metadata": {},
   "source": [
    "One data set can require several transformations which vary according the variable type. These must also be performed in the right order.\n",
    "\n",
    "Scikit-Learn gifts us the Pipeline class to help with this ubiquitous process to write clean and efficient code."
   ]
  },
  {
   "cell_type": "code",
   "execution_count": 71,
   "metadata": {},
   "outputs": [],
   "source": [
    "from sklearn.pipeline import Pipeline\n",
    "\n",
    "num_pipeline = Pipeline([\n",
    "    ('imputer', SimpleImputer(strategy='median')),\n",
    "    ('add_variables', NewVariablesAdder()),\n",
    "    ('std_scaler', StandardScaler())\n",
    "])\n",
    "\n",
    "num_transformed = num_pipeline.fit_transform(airbnb_num)"
   ]
  },
  {
   "cell_type": "code",
   "execution_count": 32,
   "metadata": {},
   "outputs": [],
   "source": [
    "from sklearn.compose import ColumnTransformer\n",
    "\n",
    "\n",
    "data_pipeline = ColumnTransformer([\n",
    "    ('numerical', num_pipeline, num_vars),\n",
    "    ('categorical', OneHotEncoder(), cat_vars),\n",
    "    \n",
    "])\n",
    "\n",
    "\n",
    "airbnb_processed = data_pipeline.fit_transform(airbnb_data)"
   ]
  },
  {
   "cell_type": "code",
   "execution_count": 35,
   "metadata": {},
   "outputs": [
    {
     "data": {
      "text/plain": [
       "<9x9 sparse matrix of type '<class 'numpy.float64'>'\n",
       "\twith 81 stored elements in Compressed Sparse Row format>"
      ]
     },
     "execution_count": 35,
     "metadata": {},
     "output_type": "execute_result"
    }
   ],
   "source": []
  }
 ],
 "metadata": {
  "kernelspec": {
   "display_name": "Python 3",
   "language": "python",
   "name": "python3"
  },
  "language_info": {
   "codemirror_mode": {
    "name": "ipython",
    "version": 3
   },
   "file_extension": ".py",
   "mimetype": "text/x-python",
   "name": "python",
   "nbconvert_exporter": "python",
   "pygments_lexer": "ipython3",
   "version": "3.7.3"
  }
 },
 "nbformat": 4,
 "nbformat_minor": 4
}
